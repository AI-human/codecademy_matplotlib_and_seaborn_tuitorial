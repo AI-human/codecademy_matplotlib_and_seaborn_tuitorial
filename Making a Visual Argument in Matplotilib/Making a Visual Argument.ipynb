{
 "cells": [
  {
   "cell_type": "markdown",
   "id": "79af8f36-c29b-4657-87c1-56dcad071bd7",
   "metadata": {},
   "source": [
    "### What is a visual argument?\n",
    "\n",
    "All design choices impact how a viewer will understand a data visualization. Even the simplest visualizations have an argument, a thesis, or a central point — and the design choices we make (or ignore) can have a positive or negative effect on getting that point across.\n",
    "\n",
    "For the goal of creating more readable and understandable visualizations, there are some simple, effective tools at our disposal in matplotlib. Here are 6 strategies we’ll learn for making a strong, clear visual argument:\n",
    "\n",
    "-   choose the right chart\n",
    "-   use subplots to compare multiple graphs\n",
    "-   remove distracting lines (i.e., chartjunk)\n",
    "-   use color for emphasis\n",
    "-   add annotations to the graph\n",
    "-   present the graph with context\n",
    "\n",
    "In this lesson, we’ll work with a dataset that catalogs trees around the Tapajós River, a tributary of the Amazon River that runs through the Amazon Rainforest. Some preliminary data manipulation has been done for you to aggregate and organize the data for our purposes. (This is a crucial step in most data visualization processes, and a great reason to become familiar with the  `pandas`  library! You can check out the other notebook in this folder if you want to see how we organized the data using  `pandas`.) Use the Jupyter notebook to the right to explore the data, and then we’ll dive into making some visualizations in the next exercise!"
   ]
  },
  {
   "cell_type": "markdown",
   "id": "e13baef9-acb9-4193-ab55-9d41bca65d43",
   "metadata": {},
   "source": [
    "\n",
    "### Choose the right chart for the data\n",
    "\n",
    "Charts and data visualizations help us to make sense of the world around us. They are most helpful when we can connect what we see on the page or screen to our everyday understanding of the world.\n",
    "\n",
    "We can make that connection easier by picking a chart that, whenever possible, leans on the audience’s real-world interaction with the data. For example, consider whether your data is better suited to a horizontal or vertical presentation. Simply changing the orientation of a chart can have a big impact on its readability – check out this example with two boxplots:\n",
    "\n",
    "A boxplot of finishing times for a half-marathon makes most sense as a horizontal box plot, since linear time is often visualized horizontally from left to right (and distance is a “horizontal” measure).\n",
    "\n",
    "A box plot of women’s heights, on the other hand, makes sense visualized as a vertical box plot, since we measure standing height as a vertical measure.\n",
    "\n",
    "No matter the type of chart, this simple choice can help to start the viewer off on the right foot.\n",
    "\n",
    "In the Jupyter notebook, we’re going to visualize the average tree heights of the five most common plant families in our dataset. We’ll visualize both the  `crown_base`  height (the trunk) and the  `depth_crown`  (the leafy part). What do you think will be the clearest way to communicate that visually?"
   ]
  },
  {
   "cell_type": "code",
   "execution_count": 3,
   "id": "5fa3f935-0814-43ea-9ecf-99722749c1ef",
   "metadata": {},
   "outputs": [],
   "source": [
    "from matplotlib import pyplot as plt\n",
    "import pandas as pd"
   ]
  },
  {
   "cell_type": "code",
   "execution_count": 4,
   "id": "26138df5-5566-42be-aa7c-e07ae16cac06",
   "metadata": {},
   "outputs": [],
   "source": [
    "# display charts correctly\n",
    "%matplotlib inline\n",
    "plt.rcParams['figure.figsize'] = (5, 3)\n",
    "plt.rcParams['figure.dpi'] = 75"
   ]
  },
  {
   "cell_type": "code",
   "execution_count": null,
   "id": "80575726-c589-47e2-8e9e-f22555a523ea",
   "metadata": {},
   "outputs": [],
   "source": []
  }
 ],
 "metadata": {
  "kernelspec": {
   "display_name": "Python 3 (ipykernel)",
   "language": "python",
   "name": "python3"
  },
  "language_info": {
   "codemirror_mode": {
    "name": "ipython",
    "version": 3
   },
   "file_extension": ".py",
   "mimetype": "text/x-python",
   "name": "python",
   "nbconvert_exporter": "python",
   "pygments_lexer": "ipython3",
   "version": "3.11.3"
  }
 },
 "nbformat": 4,
 "nbformat_minor": 5
}
