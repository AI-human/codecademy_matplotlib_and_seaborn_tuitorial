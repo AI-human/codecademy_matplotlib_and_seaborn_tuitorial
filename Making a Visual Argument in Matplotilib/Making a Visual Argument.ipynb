{
 "cells": [
  {
   "cell_type": "markdown",
   "id": "79af8f36-c29b-4657-87c1-56dcad071bd7",
   "metadata": {},
   "source": [
    "### What is a visual argument?\n",
    "\n",
    "All design choices impact how a viewer will understand a data visualization. Even the simplest visualizations have an argument, a thesis, or a central point — and the design choices we make (or ignore) can have a positive or negative effect on getting that point across.\n",
    "\n",
    "For the goal of creating more readable and understandable visualizations, there are some simple, effective tools at our disposal in matplotlib. Here are 6 strategies we’ll learn for making a strong, clear visual argument:\n",
    "\n",
    "-   choose the right chart\n",
    "-   use subplots to compare multiple graphs\n",
    "-   remove distracting lines (i.e., chartjunk)\n",
    "-   use color for emphasis\n",
    "-   add annotations to the graph\n",
    "-   present the graph with context\n",
    "\n",
    "In this lesson, we’ll work with a dataset that catalogs trees around the Tapajós River, a tributary of the Amazon River that runs through the Amazon Rainforest. Some preliminary data manipulation has been done for you to aggregate and organize the data for our purposes. (This is a crucial step in most data visualization processes, and a great reason to become familiar with the  `pandas`  library! You can check out the other notebook in this folder if you want to see how we organized the data using  `pandas`.) Use the Jupyter notebook to the right to explore the data, and then we’ll dive into making some visualizations in the next exercise!"
   ]
  },
  {
   "cell_type": "markdown",
   "id": "e13baef9-acb9-4193-ab55-9d41bca65d43",
   "metadata": {},
   "source": [
    "\n",
    "### Choose the right chart for the data\n",
    "\n",
    "Charts and data visualizations help us to make sense of the world around us. They are most helpful when we can connect what we see on the page or screen to our everyday understanding of the world.\n",
    "\n",
    "We can make that connection easier by picking a chart that, whenever possible, leans on the audience’s real-world interaction with the data. For example, consider whether your data is better suited to a horizontal or vertical presentation. Simply changing the orientation of a chart can have a big impact on its readability – check out this example with two boxplots:\n",
    "\n",
    "A boxplot of finishing times for a half-marathon makes most sense as a horizontal box plot, since linear time is often visualized horizontally from left to right (and distance is a “horizontal” measure).\n",
    "\n",
    "A box plot of women’s heights, on the other hand, makes sense visualized as a vertical box plot, since we measure standing height as a vertical measure.\n",
    "\n",
    "No matter the type of chart, this simple choice can help to start the viewer off on the right foot.\n",
    "\n",
    "In the Jupyter notebook, we’re going to visualize the average tree heights of the five most common plant families in our dataset. We’ll visualize both the  `crown_base`  height (the trunk) and the  `depth_crown`  (the leafy part). What do you think will be the clearest way to communicate that visually?"
   ]
  },
  {
   "cell_type": "code",
   "execution_count": 1,
   "id": "5fa3f935-0814-43ea-9ecf-99722749c1ef",
   "metadata": {},
   "outputs": [],
   "source": [
    "from matplotlib import pyplot as plt\n",
    "import pandas as pd"
   ]
  },
  {
   "cell_type": "code",
   "execution_count": 2,
   "id": "26138df5-5566-42be-aa7c-e07ae16cac06",
   "metadata": {},
   "outputs": [],
   "source": [
    "# display charts correctly\n",
    "%matplotlib inline\n",
    "plt.rcParams['figure.figsize'] = (5, 3)\n",
    "plt.rcParams['figure.dpi'] = 75"
   ]
  },
  {
   "cell_type": "code",
   "execution_count": 3,
   "id": "304ab8e5-42ef-4f47-81b0-901ff9df6adf",
   "metadata": {},
   "outputs": [
    {
     "data": {
      "text/html": [
       "<div>\n",
       "<style scoped>\n",
       "    .dataframe tbody tr th:only-of-type {\n",
       "        vertical-align: middle;\n",
       "    }\n",
       "\n",
       "    .dataframe tbody tr th {\n",
       "        vertical-align: top;\n",
       "    }\n",
       "\n",
       "    .dataframe thead th {\n",
       "        text-align: right;\n",
       "    }\n",
       "</style>\n",
       "<table border=\"1\" class=\"dataframe\">\n",
       "  <thead>\n",
       "    <tr style=\"text-align: right;\">\n",
       "      <th></th>\n",
       "      <th>family</th>\n",
       "      <th>trunk</th>\n",
       "      <th>leaves</th>\n",
       "      <th>total_height</th>\n",
       "    </tr>\n",
       "  </thead>\n",
       "  <tbody>\n",
       "    <tr>\n",
       "      <th>0</th>\n",
       "      <td>Fabaceae</td>\n",
       "      <td>8.250478</td>\n",
       "      <td>7.203633</td>\n",
       "      <td>15.450287</td>\n",
       "    </tr>\n",
       "    <tr>\n",
       "      <th>1</th>\n",
       "      <td>Urticaceae</td>\n",
       "      <td>9.109798</td>\n",
       "      <td>4.146398</td>\n",
       "      <td>13.251297</td>\n",
       "    </tr>\n",
       "    <tr>\n",
       "      <th>2</th>\n",
       "      <td>Salicaceae</td>\n",
       "      <td>6.042415</td>\n",
       "      <td>4.763158</td>\n",
       "      <td>10.805263</td>\n",
       "    </tr>\n",
       "    <tr>\n",
       "      <th>3</th>\n",
       "      <td>Annonaceae</td>\n",
       "      <td>7.748108</td>\n",
       "      <td>5.525405</td>\n",
       "      <td>13.270811</td>\n",
       "    </tr>\n",
       "    <tr>\n",
       "      <th>4</th>\n",
       "      <td>Boraginaceae</td>\n",
       "      <td>10.992045</td>\n",
       "      <td>4.327841</td>\n",
       "      <td>15.323295</td>\n",
       "    </tr>\n",
       "  </tbody>\n",
       "</table>\n",
       "</div>"
      ],
      "text/plain": [
       "         family      trunk    leaves  total_height\n",
       "0      Fabaceae   8.250478  7.203633     15.450287\n",
       "1    Urticaceae   9.109798  4.146398     13.251297\n",
       "2    Salicaceae   6.042415  4.763158     10.805263\n",
       "3    Annonaceae   7.748108  5.525405     13.270811\n",
       "4  Boraginaceae  10.992045  4.327841     15.323295"
      ]
     },
     "execution_count": 3,
     "metadata": {},
     "output_type": "execute_result"
    }
   ],
   "source": [
    "avg_heights = pd.read_csv('average_heights.csv')\n",
    "avg_heights"
   ]
  },
  {
   "cell_type": "code",
   "execution_count": 4,
   "id": "80575726-c589-47e2-8e9e-f22555a523ea",
   "metadata": {},
   "outputs": [
    {
     "data": {
      "image/png": "[encoded data removed]",
      "text/plain": [
       "<Figure size 375x225 with 1 Axes>"
      ]
     },
     "metadata": {},
     "output_type": "display_data"
    }
   ],
   "source": [
    "## YOUR SOLUTION HERE ##\n",
    "plt.bar(avg_heights.family,avg_heights.trunk)\n",
    "plt.bar(avg_heights.family,avg_heights.leaves,bottom=avg_heights.trunk \n",
    "plt.tick_params(axis='x',labelrotation=45)\n",
    "plt.show()"
   ]
  },
  {
   "attachments": {
    "4359308e-1b5c-42a4-ab6f-69cb6315e3cc.png": {
     "image/png": "[encoded data removed]"
    }
   },
   "cell_type": "markdown",
   "id": "f2ca0d21-7a0d-4825-8e2c-2e8a44a9b0d8",
   "metadata": {},
   "source": [
    "\n",
    "### Use subplots to compare multiple charts\n",
    "\n",
    "Not only can subplots help us fit graphs nicely onto a page, the arrangement of graphs in a subplot can  _also_  be used as a tool to make a clearer visual argument.\n",
    "\n",
    "-   **Side-by-side**  charts allow us to quickly compare y-axis (vertical) changes. This is often the best presentation for direct comparisons of similar charts, especially when the x-axis is consistent.\n",
    "    \n",
    "-   **Stacked**  charts allow for easy comparison of changes on the x-axis (horizontal).\n",
    "    \n",
    "-   A  **tiled grid**  creates a setup known as “small multiples”. This is ideal for showing a pattern between multiple visualizations, or emphasizing one visualization in the context of others.\n",
    "    \n",
    "\n",
    "With any setup, we should  **keep the scale and axis-bounds the same whenever possible**  so that the graphs can be compared directly. If that’s not possible, we need to make sure the viewer knows what’s being changed between each graph. Graphs can become  **confusing or even misleading**  if the scale, axes, or units are changed without explicit notice. Titles, annotations, or axis-labels are good places to put this information.\n",
    "\n",
    "To make these subplot arrangements, we use the  `plt.subplot()`  function, which takes parameters for  `row`,  `column`, and  `index`  (i.e. position in the grid). For example, the code below makes a grid with 4 rows and 2 columns (so, 8 squares), and will “select” the sixth square in the grid:\n",
    "\n",
    "```\n",
    "\n",
    "```\n",
    "\n",
    "![image.png](attachment:4359308e-1b5c-42a4-ab6f-69cb6315e3cc.png)\n",
    "\n",
    "Let’s put some of these to work on our dataset now. Again, we’ll load the tree inventory dataset, and subsets of relevant information. This time, the trees are subsetted by forest type:  `PF`  (primary forest),  `SF`  (secondary forest), and  `SLF`  (selectively logged forest). We’ll use multiple vertical bar charts to compare the counts of the most common trees in each forest type. Our goal for the next few visualizations is to  **better understand biodiversity in the three different types of forest**."
   ]
  },
  {
   "cell_type": "code",
   "execution_count": null,
   "id": "4da63c44-de6d-4ab1-8520-4a1b5729c294",
   "metadata": {},
   "outputs": [],
   "source": [
    "from matplotlib import pyplot as plt\n",
    "import pandas as pd\n",
    "\n",
    "# load data\n",
    "PF_data = pd.read_csv('PF_genus_counts.csv')\n",
    "SF_data = pd.read_csv('SF_genus_counts.csv')\n",
    "SLF_data = pd.read_csv('SLF_genus_counts.csv')\n",
    "PF_data.head()"
   ]
  },
  {
   "cell_type": "markdown",
   "id": "26433b7f-e839-4dc1-bd3e-9b9282d064d8",
   "metadata": {},
   "source": [
    "This time, our tree data is subsetted by forest type: `PF` (primary forest), `SF` (secondary forest), and `SLF` (selectively logged forest). We’ll use multiple vertical bar charts to compare the counts of the most common trees in each forest type. Our goal for the next few visualizations is to **better understand biodiversity in the three different types of forest**.\n"
   ]
  },
  {
   "cell_type": "markdown",
   "id": "a500c6c6-c274-4da0-89ac-ccfe454334e1",
   "metadata": {},
   "source": [
    "1. Run the Setup cells above to load our data, and take a few minutes to look at the subsets. Then, make 3 subplots in a 3-row by 1-column grid. Make a barplot in each subplot, plotting `genus` on the x-axis and `counts` on the y-axis for each. Add an `xlabel` to each x-axis so we can keep track of which graph represents which forest. "
   ]
  },
  {
   "cell_type": "code",
   "execution_count": null,
   "id": "d0030068-7fcb-48aa-9b8e-d183c22a1270",
   "metadata": {},
   "outputs": [],
   "source": [
    "## YOUR SOLUTION HERE ##\n",
    "\n",
    "plt.figure(figsize=(10, 5))  # we'll learn how to do this later in this lesson\n",
    "plt.subplot(3,1,1)\n",
    "plt.bar(PF_data.genus,PF_data.counts)\n",
    "plt.xlabel(\"Primary Forest\")\n",
    "plt.subplot(3,1,2)\n",
    "plt.bar(SF_data.genus,SF_data.counts)\n",
    "plt.xlabel('Secondary Forest')\n",
    "plt.subplot(3,1,3)\n",
    "plt.bar(SLF_data.genus,SLF_data.counts)\n",
    "plt.xlabel('Selectively Logged Forest')\n",
    "plt.show()"
   ]
  },
  {
   "cell_type": "markdown",
   "id": "0e80ff83-b99c-4fb8-96c2-a3b649bf2e39",
   "metadata": {},
   "source": [
    "<details>\n",
    "    <summary style=\"display:list-item; font-size:16px; color:blue;\"><i>Woah there! What do you notice? What could you say about the scales? The colors? The axis labels? We'll improve these graphs in the next few steps.</i></summary> Both the x-scale and y-scale are unstandardized -- in other words, different on the different graphs. The x-labels are totally unreadable, and the color doesn't mean anything at this point. </summary>"
   ]
  },
  {
   "cell_type": "markdown",
   "id": "6e6e6e4d-943a-4c9e-a9ca-983450127150",
   "metadata": {},
   "source": [
    "2. Okay, that's looking pretty hard to read right now -- we'll work on fixing up this graph throughout this exercise and the next one. To start, let's standardize the y-axes. The counts in the Secondary Forest graph are near 100, while the other two reach only to about 70. Change the y-axes range to `(0,105)` for each graph using `plt.ylim()`."
   ]
  },
  {
   "cell_type": "code",
   "execution_count": null,
   "id": "1625e4ed-9e02-4b8f-ae9e-5539e9350f9a",
   "metadata": {},
   "outputs": [],
   "source": [
    "## YOUR SOLUTION HERE ##\n",
    "\n",
    "plt.figure(figsize=(10, 5))  # we'll learn how to do this later in this lesson\n",
    "plt.subplot(3,1,1)\n",
    "plt.bar(PF_data.genus,PF_data.counts)\n",
    "plt.ylim(0,105)\n",
    "plt.xlabel(\"Primary Forest\")\n",
    "plt.subplot(3,1,2)\n",
    "plt.ylim(0,105)\n",
    "plt.bar(SF_data.genus,SF_data.counts)\n",
    "plt.xlabel('Secondary Forest')\n",
    "plt.subplot(3,1,3)\n",
    "plt.bar(SLF_data.genus,SLF_data.counts)\n",
    "plt.ylim(0,105)\n",
    "plt.xlabel('Selectively Logged Forest')\n",
    "plt.show()"
   ]
  },
  {
   "cell_type": "markdown",
   "id": "f18f4ec9-6610-4c12-8842-1e317462676f",
   "metadata": {},
   "source": [
    "3. Looking better already! But do you notice that the bars are _slightly_ wider in the middle graph? Let's standardize the x-axis too, by setting the `xlim` to `(-3, 100)` to give a cushion on either side of the graph."
   ]
  },
  {
   "cell_type": "code",
   "execution_count": null,
   "id": "6e75aa27-a168-47de-9d19-91ef757bc628",
   "metadata": {},
   "outputs": [],
   "source": [
    "## YOUR SOLUTION HERE ##\n",
    "plt.figure(figsize=(10, 5))  # we'll learn how to do this later in this lesson\n",
    "plt.figure(figsize=(10, 5))  # we'll learn how to do this later in this lesson\n",
    "plt.subplot(3,1,1)\n",
    "plt.bar(PF_data.genus,PF_data.counts)\n",
    "plt.xlim(-3,105)\n",
    "plt.ylim(0,105)\n",
    "plt.xlabel(\"Primary Forest\")\n",
    "plt.subplot(3,1,2)\n",
    "plt.bar(SF_data.genus,SF_data.counts)\n",
    "plt.xlim(-3,105)\n",
    "plt.ylim(0,105)\n",
    "plt.xlabel('Secondary Forest')\n",
    "plt.subplot(3,1,3)\n",
    "plt.bar(SLF_data.genus,SLF_data.counts)\n",
    "plt.xlim(-3,105)\n",
    "plt.ylim(0,105)\n",
    "plt.xlabel('Selectively Logged Forest')\n",
    "plt.show()"
   ]
  },
  {
   "cell_type": "markdown",
   "id": "691626c5-5131-48af-8330-b14c6bac7d5b",
   "metadata": {},
   "source": [
    "4. Now we have a real visual comparison going -- the number of trees in the top genuses are clearly higher in Secondary Forests, but it looks like Primary and Selectively Logged Forests have _more species_ of trees. Let's clean it up a little more by rotating the labels. Recall that we can use matplotlib's general function `plt.xticks()`, and pass in arguments for horizontal alignment, `ha`, and `rotation`. Set the horizontal alignment equal to `\"left\"` and the rotation equal to `-45` degrees."
   ]
  },
  {
   "cell_type": "code",
   "execution_count": null,
   "id": "c38c79a3-008c-4ccf-b5c2-ee6fff9cf775",
   "metadata": {},
   "outputs": [],
   "source": [
    "## YOUR SOLUTION HERE ##\n",
    "\n",
    "plt.figure(figsize=(12, 5))  # we'll learn how to do this later in this lesson\n",
    "plt.subplot(3,1,1)\n",
    "plt.bar(PF_data.genus, PF_data.counts)\n",
    "plt.xlabel('Primary Forest')\n",
    "plt.ylim((0,105))\n",
    "plt.xlim((-3,105))\n",
    "plt.xticks(ha=\"left\", rotation=-45)\n",
    "plt.subplot(3,1,2)\n",
    "plt.bar(SF_data.genus, SF_data.counts)\n",
    "plt.xlabel('Secondary Forest')\n",
    "plt.ylim((0,105))\n",
    "plt.xlim((-3,105))\n",
    "plt.xticks(ha=\"left\", rotation=-45)\n",
    "plt.subplot(3,1,3)\n",
    "plt.bar(SLF_data.genus, SLF_data.counts)\n",
    "plt.xlabel('Selectively Logged Forest')\n",
    "plt.ylim((0,105))\n",
    "plt.xlim((-3,105))\n",
    "plt.xticks(ha=\"left\", rotation=-45)\n",
    "plt.show()"
   ]
  },
  {
   "cell_type": "markdown",
   "id": "1d44d508-f897-43cb-a0ea-a9d71435d172",
   "metadata": {},
   "source": [
    "Well, that's still pretty messy! But we start to see that the _types_ of trees are different in each forest type, regardless of how many there are. Let's dig deeper and keep improving this graph and our visual argument in the next exercise. "
   ]
  }
 ],
 "metadata": {
  "kernelspec": {
   "display_name": "Python 3 (ipykernel)",
   "language": "python",
   "name": "python3"
  },
  "language_info": {
   "codemirror_mode": {
    "name": "ipython",
    "version": 3
   },
   "file_extension": ".py",
   "mimetype": "text/x-python",
   "name": "python",
   "nbconvert_exporter": "python",
   "pygments_lexer": "ipython3",
   "version": "3.11.3"
  }
 },
 "nbformat": 4,
 "nbformat_minor": 5
}
